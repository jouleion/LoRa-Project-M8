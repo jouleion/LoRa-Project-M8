{
 "cells": [
  {
   "cell_type": "code",
   "execution_count": null,
   "id": "4dcb97ba-d244-496f-9428-7d775e723112",
   "metadata": {},
   "outputs": [],
   "source": [
    "from websockets.sync.client import connect\n",
    "import json"
   ]
  },
  {
   "cell_type": "markdown",
   "id": "70dca36f-a071-4b38-9a9c-169682f2e0b9",
   "metadata": {},
   "source": [
    "In this example we use the websockets library (https://websockets.readthedocs.io/en/stable/)\n",
    "\n",
    "This is a super simple way to receive the websocket data, but feel free to use other methods."
   ]
  },
  {
   "cell_type": "code",
   "execution_count": null,
   "id": "6a4ad58f-9989-408e-b65a-a39685e0349e",
   "metadata": {},
   "outputs": [],
   "source": [
    "def receive_data():\n",
    "    max_msg = 10 # Feel free to change this or just let it loop forever. Maybe best to keep it low while testing...\n",
    "    with connect(\"ws://192.87.172.71:1337\") as websocket:\n",
    "        count = 0\n",
    "        while count < max_msg:\n",
    "            msg = websocket.recv()\n",
    "            try:\n",
    "                msg = json.loads(msg)\n",
    "                handle_message(msg) # Call function to do the actual data handling\n",
    "            except json.JSONDecodeError:\n",
    "                print(\"Failed to decode json, assuming next packet will be ok...\")\n",
    "                pass\n",
    "            except Exception as e:\n",
    "                # Assume something went wrong and stop receiving\n",
    "                print(\"Something went horribly wrong!\")\n",
    "                print(\"Error:\", e)\n",
    "                break\n",
    "            \n",
    "            count += 1\n",
    "        print(\"Received %d messages!\" % count)"
   ]
  },
  {
   "cell_type": "markdown",
   "id": "c595ef85-74b8-4711-b885-d2ea1c7a9e3b",
   "metadata": {},
   "source": [
    "# 'Packet' format\n",
    "The websocket will give you one entry per packet that was received on a gateway. This packet can have the following fields:\n",
    "\n",
    "- `tmst`: internal timestamp of the receiver, you can ignore this as we have a UTC timetamp\n",
    "- `time`: Timestamp the gateway received the packet\n",
    "- `chan`: lora channel\n",
    "- `rfch`: 'rf chain' used\n",
    "- `freq`: frequency the packet was received on\n",
    "- `stat`: CRC status (if the packet passed the error correction check). I'm, 99% sure we only get 'good' packets so this should always be 1.\n",
    "- `modu`: Moduleation, 'LORA' or 'FSK' (But I think we only get LORA)\n",
    "- `datr`: Spreading factor and bandwidth as a string [https://www.thethingsnetwork.org/docs/lorawan/spreading-factors/]\n",
    "- `codr`: Coding rate [https://www.thethingsnetwork.org/docs/lorawan/fec-and-code-rate/]\n",
    "- `lsnr`: Lora SNR ratio in db [https://www.thethingsnetwork.org/docs/lorawan/rssi-and-snr/]\n",
    "- `rssi`: Signal strength indication at the receiver (gateway) in dBm\n",
    "- `size`: size of the packet in bytes(?)\n",
    "- `gateway`: Address of the gateway, you can compare this to the list of gateway locations.\n",
    "- `device_addr`: The 'short' device address. These might change!\n",
    "- `device_eui`: The actual device address. Note that this will only be included if we know the device!\n",
    "- `device_name`: The device name. Note that this will only be included if we know the device!\n",
    "\n",
    "Note: the same message may be received by multiple gateways, so don't be surprised if you see the same message multiple times. In fact, this is one of the properties you could use to learn more about signal propagation and signal quality."
   ]
  },
  {
   "cell_type": "code",
   "execution_count": null,
   "id": "863d0371-29d1-490c-a32d-84a9f44f51f1",
   "metadata": {},
   "outputs": [],
   "source": [
    "def handle_message(msg):\n",
    "    print(\"Received packet with rssi: %d.\" % msg['rssi'])\n",
    "    print(msg)\n",
    "    if 'device_eui' in msg:\n",
    "        print(\"This is a known device!\")\n",
    "        print(\"Device name: \", msg['device_name'])\n",
    "    print()"
   ]
  },
  {
   "cell_type": "code",
   "execution_count": null,
   "id": "75d07836-3805-4106-a38a-e478db688e79",
   "metadata": {},
   "outputs": [],
   "source": [
    "receive_data()"
   ]
  },
  {
   "cell_type": "code",
   "execution_count": null,
   "id": "d9ba686a-0775-42fe-9500-0d0e4c8288f6",
   "metadata": {},
   "outputs": [],
   "source": []
  }
 ],
 "metadata": {
  "kernelspec": {
   "display_name": "Python 3 (ipykernel)",
   "language": "python",
   "name": "python3"
  },
  "language_info": {
   "codemirror_mode": {
    "name": "ipython",
    "version": 3
   },
   "file_extension": ".py",
   "mimetype": "text/x-python",
   "name": "python",
   "nbconvert_exporter": "python",
   "pygments_lexer": "ipython3",
   "version": "3.9.19"
  }
 },
 "nbformat": 4,
 "nbformat_minor": 5
}
